{
 "cells": [
  {
   "cell_type": "code",
   "execution_count": 8,
   "metadata": {},
   "outputs": [
    {
     "data": {
      "text/plain": [
       "stop_id                  int64\n",
       "stop_code              float64\n",
       "stop_name               object\n",
       "stop_desc               object\n",
       "stop_lat               float64\n",
       "stop_lon               float64\n",
       "location_type            int64\n",
       "parent_station         float64\n",
       "wheelchair_boarding      int64\n",
       "postal_code              int64\n",
       "dtype: object"
      ]
     },
     "execution_count": 8,
     "metadata": {},
     "output_type": "execute_result"
    }
   ],
   "source": [
    "# Dependencies and Setup\n",
    "import pandas as pd\n",
    "\n",
    "# Read in the Chicago CTA stop + zipcode info previously cleaned\n",
    "i_file = \"./chicago_cta_stops.csv\"\n",
    "\n",
    "# Read the data into a dataframe\n",
    "c_cta_stops_df = pd.read_csv(i_file)\n",
    "\n",
    "# Data types\n",
    "# Note: 'stop_code' and 'parent_station' both are type 'float64' since these columns may have NaN values.\n",
    "# (For some reason, NaN results in an error if the data type is 'int64')\n",
    "c_cta_stops_df.dtypes\n",
    "\n",
    "# Quick preview of the data\n",
    "c_cta_stops_df.head()"
   ]
  }
 ],
 "metadata": {
  "kernelspec": {
   "display_name": "Python 3",
   "language": "python",
   "name": "python3"
  },
  "language_info": {
   "codemirror_mode": {
    "name": "ipython",
    "version": 3
   },
   "file_extension": ".py",
   "mimetype": "text/x-python",
   "name": "python",
   "nbconvert_exporter": "python",
   "pygments_lexer": "ipython3",
   "version": "3.6.6"
  }
 },
 "nbformat": 4,
 "nbformat_minor": 2
}
