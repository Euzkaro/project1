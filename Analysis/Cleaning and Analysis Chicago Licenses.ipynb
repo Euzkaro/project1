{
 "cells": [
  {
   "cell_type": "code",
   "execution_count": 1,
   "metadata": {},
   "outputs": [
    {
     "name": "stderr",
     "output_type": "stream",
     "text": [
      "/Users/gallasteguicrino/anaconda3/lib/python3.7/site-packages/IPython/core/interactiveshell.py:3020: DtypeWarning: Columns (9,16,17) have mixed types. Specify dtype option on import or set low_memory=False.\n",
      "  interactivity=interactivity, compiler=compiler, result=result)\n"
     ]
    },
    {
     "data": {
      "text/html": [
       "<div>\n",
       "<style scoped>\n",
       "    .dataframe tbody tr th:only-of-type {\n",
       "        vertical-align: middle;\n",
       "    }\n",
       "\n",
       "    .dataframe tbody tr th {\n",
       "        vertical-align: top;\n",
       "    }\n",
       "\n",
       "    .dataframe thead th {\n",
       "        text-align: right;\n",
       "    }\n",
       "</style>\n",
       "<table border=\"1\" class=\"dataframe\">\n",
       "  <thead>\n",
       "    <tr style=\"text-align: right;\">\n",
       "      <th></th>\n",
       "      <th>ID</th>\n",
       "      <th>LICENSE ID</th>\n",
       "      <th>ACCOUNT NUMBER</th>\n",
       "      <th>SITE NUMBER</th>\n",
       "      <th>LEGAL NAME</th>\n",
       "      <th>DOING BUSINESS AS NAME</th>\n",
       "      <th>ADDRESS</th>\n",
       "      <th>CITY</th>\n",
       "      <th>STATE</th>\n",
       "      <th>ZIP CODE</th>\n",
       "      <th>...</th>\n",
       "      <th>LICENSE TERM START DATE</th>\n",
       "      <th>LICENSE TERM EXPIRATION DATE</th>\n",
       "      <th>LICENSE APPROVED FOR ISSUANCE</th>\n",
       "      <th>DATE ISSUED</th>\n",
       "      <th>LICENSE STATUS</th>\n",
       "      <th>LICENSE STATUS CHANGE DATE</th>\n",
       "      <th>SSA</th>\n",
       "      <th>LATITUDE</th>\n",
       "      <th>LONGITUDE</th>\n",
       "      <th>LOCATION</th>\n",
       "    </tr>\n",
       "  </thead>\n",
       "  <tbody>\n",
       "    <tr>\n",
       "      <th>0</th>\n",
       "      <td>22308-20060816</td>\n",
       "      <td>1723393</td>\n",
       "      <td>29481</td>\n",
       "      <td>1</td>\n",
       "      <td>BELL OIL TERMINAL INC</td>\n",
       "      <td>Bell Oil Terminal LLC</td>\n",
       "      <td>3741 S PULASKI RD  1</td>\n",
       "      <td>CHICAGO</td>\n",
       "      <td>IL</td>\n",
       "      <td>60623</td>\n",
       "      <td>...</td>\n",
       "      <td>08/16/2006</td>\n",
       "      <td>08/15/2007</td>\n",
       "      <td>08/10/2006</td>\n",
       "      <td>08/11/2006</td>\n",
       "      <td>AAI</td>\n",
       "      <td>NaN</td>\n",
       "      <td>NaN</td>\n",
       "      <td>41.825320</td>\n",
       "      <td>-87.723960</td>\n",
       "      <td>(41.82531992987547, -87.72395999659746)</td>\n",
       "    </tr>\n",
       "    <tr>\n",
       "      <th>1</th>\n",
       "      <td>1620668-20160516</td>\n",
       "      <td>2455262</td>\n",
       "      <td>295026</td>\n",
       "      <td>1</td>\n",
       "      <td>BUCCI BIG &amp; TALL INC.</td>\n",
       "      <td>BUCCI BIG &amp; TALL INC.</td>\n",
       "      <td>558 W ROOSEVELT RD</td>\n",
       "      <td>CHICAGO</td>\n",
       "      <td>IL</td>\n",
       "      <td>60607</td>\n",
       "      <td>...</td>\n",
       "      <td>05/16/2016</td>\n",
       "      <td>05/15/2018</td>\n",
       "      <td>05/18/2016</td>\n",
       "      <td>08/30/2016</td>\n",
       "      <td>AAI</td>\n",
       "      <td>NaN</td>\n",
       "      <td>NaN</td>\n",
       "      <td>41.867339</td>\n",
       "      <td>-87.641590</td>\n",
       "      <td>(41.86733856638269, -87.64159005699716)</td>\n",
       "    </tr>\n",
       "    <tr>\n",
       "      <th>2</th>\n",
       "      <td>2368602-20160616</td>\n",
       "      <td>2460909</td>\n",
       "      <td>291461</td>\n",
       "      <td>3</td>\n",
       "      <td>PROJECT: VISION , INC.</td>\n",
       "      <td>PROJECT : VISION , INC</td>\n",
       "      <td>2301 S ARCHER AVE 1 1</td>\n",
       "      <td>CHICAGO</td>\n",
       "      <td>IL</td>\n",
       "      <td>60616</td>\n",
       "      <td>...</td>\n",
       "      <td>06/16/2016</td>\n",
       "      <td>06/15/2017</td>\n",
       "      <td>06/21/2016</td>\n",
       "      <td>06/22/2016</td>\n",
       "      <td>AAC</td>\n",
       "      <td>08/30/2016</td>\n",
       "      <td>NaN</td>\n",
       "      <td>41.850843</td>\n",
       "      <td>-87.638734</td>\n",
       "      <td>(41.85084294374687, -87.63873424399071)</td>\n",
       "    </tr>\n",
       "    <tr>\n",
       "      <th>3</th>\n",
       "      <td>2060891-20141016</td>\n",
       "      <td>2353257</td>\n",
       "      <td>357247</td>\n",
       "      <td>1</td>\n",
       "      <td>FOLASHADE'S CLEANING SERVICE INC.</td>\n",
       "      <td>FOLASHADE'S CLEANING SERVICE INC.</td>\n",
       "      <td>1965  BERNICE RD 1 1SW</td>\n",
       "      <td>LANSING</td>\n",
       "      <td>IL</td>\n",
       "      <td>60438</td>\n",
       "      <td>...</td>\n",
       "      <td>10/16/2014</td>\n",
       "      <td>10/15/2016</td>\n",
       "      <td>04/01/2016</td>\n",
       "      <td>04/01/2016</td>\n",
       "      <td>AAI</td>\n",
       "      <td>NaN</td>\n",
       "      <td>38.0</td>\n",
       "      <td>41.951316</td>\n",
       "      <td>-87.678586</td>\n",
       "      <td>(41.95131555606832, -87.67858578019546)</td>\n",
       "    </tr>\n",
       "    <tr>\n",
       "      <th>4</th>\n",
       "      <td>1144216-20070516</td>\n",
       "      <td>1804790</td>\n",
       "      <td>147</td>\n",
       "      <td>63</td>\n",
       "      <td>WALGREEN CO.</td>\n",
       "      <td>Walgreens # 05192</td>\n",
       "      <td>9148 S COMMERCIAL AVE 1ST</td>\n",
       "      <td>CHICAGO</td>\n",
       "      <td>IL</td>\n",
       "      <td>60617</td>\n",
       "      <td>...</td>\n",
       "      <td>05/16/2007</td>\n",
       "      <td>05/15/2008</td>\n",
       "      <td>05/10/2007</td>\n",
       "      <td>05/11/2007</td>\n",
       "      <td>AAI</td>\n",
       "      <td>NaN</td>\n",
       "      <td>5.0</td>\n",
       "      <td>41.728622</td>\n",
       "      <td>-87.551366</td>\n",
       "      <td>(41.72862173556932, -87.55136646594693)</td>\n",
       "    </tr>\n",
       "  </tbody>\n",
       "</table>\n",
       "<p>5 rows × 34 columns</p>\n",
       "</div>"
      ],
      "text/plain": [
       "                 ID  LICENSE ID  ACCOUNT NUMBER  SITE NUMBER  \\\n",
       "0    22308-20060816     1723393           29481            1   \n",
       "1  1620668-20160516     2455262          295026            1   \n",
       "2  2368602-20160616     2460909          291461            3   \n",
       "3  2060891-20141016     2353257          357247            1   \n",
       "4  1144216-20070516     1804790             147           63   \n",
       "\n",
       "                          LEGAL NAME             DOING BUSINESS AS NAME  \\\n",
       "0              BELL OIL TERMINAL INC              Bell Oil Terminal LLC   \n",
       "1              BUCCI BIG & TALL INC.              BUCCI BIG & TALL INC.   \n",
       "2             PROJECT: VISION , INC.             PROJECT : VISION , INC   \n",
       "3  FOLASHADE'S CLEANING SERVICE INC.  FOLASHADE'S CLEANING SERVICE INC.   \n",
       "4                       WALGREEN CO.                  Walgreens # 05192   \n",
       "\n",
       "                     ADDRESS     CITY STATE ZIP CODE  \\\n",
       "0       3741 S PULASKI RD  1  CHICAGO    IL    60623   \n",
       "1         558 W ROOSEVELT RD  CHICAGO    IL    60607   \n",
       "2      2301 S ARCHER AVE 1 1  CHICAGO    IL    60616   \n",
       "3     1965  BERNICE RD 1 1SW  LANSING    IL    60438   \n",
       "4  9148 S COMMERCIAL AVE 1ST  CHICAGO    IL    60617   \n",
       "\n",
       "                    ...                     LICENSE TERM START DATE  \\\n",
       "0                   ...                                  08/16/2006   \n",
       "1                   ...                                  05/16/2016   \n",
       "2                   ...                                  06/16/2016   \n",
       "3                   ...                                  10/16/2014   \n",
       "4                   ...                                  05/16/2007   \n",
       "\n",
       "   LICENSE TERM EXPIRATION DATE LICENSE APPROVED FOR ISSUANCE  DATE ISSUED  \\\n",
       "0                    08/15/2007                    08/10/2006   08/11/2006   \n",
       "1                    05/15/2018                    05/18/2016   08/30/2016   \n",
       "2                    06/15/2017                    06/21/2016   06/22/2016   \n",
       "3                    10/15/2016                    04/01/2016   04/01/2016   \n",
       "4                    05/15/2008                    05/10/2007   05/11/2007   \n",
       "\n",
       "   LICENSE STATUS LICENSE STATUS CHANGE DATE   SSA   LATITUDE  LONGITUDE  \\\n",
       "0             AAI                        NaN   NaN  41.825320 -87.723960   \n",
       "1             AAI                        NaN   NaN  41.867339 -87.641590   \n",
       "2             AAC                 08/30/2016   NaN  41.850843 -87.638734   \n",
       "3             AAI                        NaN  38.0  41.951316 -87.678586   \n",
       "4             AAI                        NaN   5.0  41.728622 -87.551366   \n",
       "\n",
       "                                  LOCATION  \n",
       "0  (41.82531992987547, -87.72395999659746)  \n",
       "1  (41.86733856638269, -87.64159005699716)  \n",
       "2  (41.85084294374687, -87.63873424399071)  \n",
       "3  (41.95131555606832, -87.67858578019546)  \n",
       "4  (41.72862173556932, -87.55136646594693)  \n",
       "\n",
       "[5 rows x 34 columns]"
      ]
     },
     "execution_count": 1,
     "metadata": {},
     "output_type": "execute_result"
    }
   ],
   "source": [
    "#Import dependencies and read csv file\n",
    "import pandas as pd\n",
    "import numpy as np\n",
    "import matplotlib.pyplot as plt\n",
    "df = pd.read_csv(\"Chicago_Licenses.csv\")\n",
    "df.head()"
   ]
  },
  {
   "cell_type": "code",
   "execution_count": 2,
   "metadata": {},
   "outputs": [
    {
     "data": {
      "text/html": [
       "<div>\n",
       "<style scoped>\n",
       "    .dataframe tbody tr th:only-of-type {\n",
       "        vertical-align: middle;\n",
       "    }\n",
       "\n",
       "    .dataframe tbody tr th {\n",
       "        vertical-align: top;\n",
       "    }\n",
       "\n",
       "    .dataframe thead th {\n",
       "        text-align: right;\n",
       "    }\n",
       "</style>\n",
       "<table border=\"1\" class=\"dataframe\">\n",
       "  <thead>\n",
       "    <tr style=\"text-align: right;\">\n",
       "      <th></th>\n",
       "      <th>LICENSE NUMBER</th>\n",
       "      <th>LEGAL NAME</th>\n",
       "      <th>DOING BUSINESS AS NAME</th>\n",
       "      <th>LICENSE CODE</th>\n",
       "      <th>APPLICATION TYPE</th>\n",
       "      <th>CITY</th>\n",
       "      <th>WARD</th>\n",
       "      <th>ZIP CODE</th>\n",
       "      <th>DATE ISSUED</th>\n",
       "      <th>LATITUDE</th>\n",
       "      <th>LONGITUDE</th>\n",
       "    </tr>\n",
       "  </thead>\n",
       "  <tbody>\n",
       "    <tr>\n",
       "      <th>0</th>\n",
       "      <td>22308.0</td>\n",
       "      <td>BELL OIL TERMINAL INC</td>\n",
       "      <td>Bell Oil Terminal LLC</td>\n",
       "      <td>1010</td>\n",
       "      <td>RENEW</td>\n",
       "      <td>CHICAGO</td>\n",
       "      <td>14.0</td>\n",
       "      <td>60623</td>\n",
       "      <td>08/11/2006</td>\n",
       "      <td>41.825320</td>\n",
       "      <td>-87.723960</td>\n",
       "    </tr>\n",
       "    <tr>\n",
       "      <th>1</th>\n",
       "      <td>1620668.0</td>\n",
       "      <td>BUCCI BIG &amp; TALL INC.</td>\n",
       "      <td>BUCCI BIG &amp; TALL INC.</td>\n",
       "      <td>1010</td>\n",
       "      <td>RENEW</td>\n",
       "      <td>CHICAGO</td>\n",
       "      <td>25.0</td>\n",
       "      <td>60607</td>\n",
       "      <td>08/30/2016</td>\n",
       "      <td>41.867339</td>\n",
       "      <td>-87.641590</td>\n",
       "    </tr>\n",
       "    <tr>\n",
       "      <th>2</th>\n",
       "      <td>2368602.0</td>\n",
       "      <td>PROJECT: VISION , INC.</td>\n",
       "      <td>PROJECT : VISION , INC</td>\n",
       "      <td>1625</td>\n",
       "      <td>RENEW</td>\n",
       "      <td>CHICAGO</td>\n",
       "      <td>25.0</td>\n",
       "      <td>60616</td>\n",
       "      <td>06/22/2016</td>\n",
       "      <td>41.850843</td>\n",
       "      <td>-87.638734</td>\n",
       "    </tr>\n",
       "    <tr>\n",
       "      <th>3</th>\n",
       "      <td>2060891.0</td>\n",
       "      <td>FOLASHADE'S CLEANING SERVICE INC.</td>\n",
       "      <td>FOLASHADE'S CLEANING SERVICE INC.</td>\n",
       "      <td>1010</td>\n",
       "      <td>RENEW</td>\n",
       "      <td>LANSING</td>\n",
       "      <td>NaN</td>\n",
       "      <td>60438</td>\n",
       "      <td>04/01/2016</td>\n",
       "      <td>41.951316</td>\n",
       "      <td>-87.678586</td>\n",
       "    </tr>\n",
       "    <tr>\n",
       "      <th>4</th>\n",
       "      <td>1144216.0</td>\n",
       "      <td>WALGREEN CO.</td>\n",
       "      <td>Walgreens # 05192</td>\n",
       "      <td>1010</td>\n",
       "      <td>RENEW</td>\n",
       "      <td>CHICAGO</td>\n",
       "      <td>10.0</td>\n",
       "      <td>60617</td>\n",
       "      <td>05/11/2007</td>\n",
       "      <td>41.728622</td>\n",
       "      <td>-87.551366</td>\n",
       "    </tr>\n",
       "  </tbody>\n",
       "</table>\n",
       "</div>"
      ],
      "text/plain": [
       "   LICENSE NUMBER                         LEGAL NAME  \\\n",
       "0         22308.0              BELL OIL TERMINAL INC   \n",
       "1       1620668.0              BUCCI BIG & TALL INC.   \n",
       "2       2368602.0             PROJECT: VISION , INC.   \n",
       "3       2060891.0  FOLASHADE'S CLEANING SERVICE INC.   \n",
       "4       1144216.0                       WALGREEN CO.   \n",
       "\n",
       "              DOING BUSINESS AS NAME  LICENSE CODE APPLICATION TYPE     CITY  \\\n",
       "0              Bell Oil Terminal LLC          1010            RENEW  CHICAGO   \n",
       "1              BUCCI BIG & TALL INC.          1010            RENEW  CHICAGO   \n",
       "2             PROJECT : VISION , INC          1625            RENEW  CHICAGO   \n",
       "3  FOLASHADE'S CLEANING SERVICE INC.          1010            RENEW  LANSING   \n",
       "4                  Walgreens # 05192          1010            RENEW  CHICAGO   \n",
       "\n",
       "   WARD ZIP CODE DATE ISSUED   LATITUDE  LONGITUDE  \n",
       "0  14.0    60623  08/11/2006  41.825320 -87.723960  \n",
       "1  25.0    60607  08/30/2016  41.867339 -87.641590  \n",
       "2  25.0    60616  06/22/2016  41.850843 -87.638734  \n",
       "3   NaN    60438  04/01/2016  41.951316 -87.678586  \n",
       "4  10.0    60617  05/11/2007  41.728622 -87.551366  "
      ]
     },
     "execution_count": 2,
     "metadata": {},
     "output_type": "execute_result"
    }
   ],
   "source": [
    "# Create new dataframe with the variables we'll use. \n",
    "df_1 = df[['LICENSE NUMBER', \"LEGAL NAME\", 'DOING BUSINESS AS NAME', \"LICENSE CODE\", \"APPLICATION TYPE\", \"CITY\", \"WARD\", \"ZIP CODE\", \"DATE ISSUED\", \"LATITUDE\", \"LONGITUDE\"]]\n",
    "df_1.head()"
   ]
  },
  {
   "cell_type": "code",
   "execution_count": 3,
   "metadata": {},
   "outputs": [
    {
     "data": {
      "text/plain": [
       "(958133, 11)"
      ]
     },
     "execution_count": 3,
     "metadata": {},
     "output_type": "execute_result"
    }
   ],
   "source": [
    "df_1.shape"
   ]
  },
  {
   "cell_type": "code",
   "execution_count": 4,
   "metadata": {},
   "outputs": [
    {
     "data": {
      "text/plain": [
       "(880536, 11)"
      ]
     },
     "execution_count": 4,
     "metadata": {},
     "output_type": "execute_result"
    }
   ],
   "source": [
    "# Drop NaN values\n",
    "df_1 = df_1.dropna()\n",
    "df_1.shape"
   ]
  },
  {
   "cell_type": "code",
   "execution_count": 5,
   "metadata": {},
   "outputs": [
    {
     "data": {
      "text/html": [
       "<div>\n",
       "<style scoped>\n",
       "    .dataframe tbody tr th:only-of-type {\n",
       "        vertical-align: middle;\n",
       "    }\n",
       "\n",
       "    .dataframe tbody tr th {\n",
       "        vertical-align: top;\n",
       "    }\n",
       "\n",
       "    .dataframe thead th {\n",
       "        text-align: right;\n",
       "    }\n",
       "</style>\n",
       "<table border=\"1\" class=\"dataframe\">\n",
       "  <thead>\n",
       "    <tr style=\"text-align: right;\">\n",
       "      <th></th>\n",
       "      <th>LICENSE NUMBER</th>\n",
       "      <th>LEGAL NAME</th>\n",
       "      <th>DOING BUSINESS AS NAME</th>\n",
       "      <th>LICENSE CODE</th>\n",
       "      <th>APPLICATION TYPE</th>\n",
       "      <th>CITY</th>\n",
       "      <th>WARD</th>\n",
       "      <th>ZIP CODE</th>\n",
       "      <th>DATE ISSUED</th>\n",
       "      <th>LATITUDE</th>\n",
       "      <th>LONGITUDE</th>\n",
       "    </tr>\n",
       "  </thead>\n",
       "  <tbody>\n",
       "    <tr>\n",
       "      <th>0</th>\n",
       "      <td>22308.0</td>\n",
       "      <td>BELL OIL TERMINAL INC</td>\n",
       "      <td>Bell Oil Terminal LLC</td>\n",
       "      <td>1010</td>\n",
       "      <td>RENEW</td>\n",
       "      <td>CHICAGO</td>\n",
       "      <td>14.0</td>\n",
       "      <td>60623</td>\n",
       "      <td>08/11/2006</td>\n",
       "      <td>41.825320</td>\n",
       "      <td>-87.723960</td>\n",
       "    </tr>\n",
       "    <tr>\n",
       "      <th>1</th>\n",
       "      <td>1620668.0</td>\n",
       "      <td>BUCCI BIG &amp; TALL INC.</td>\n",
       "      <td>BUCCI BIG &amp; TALL INC.</td>\n",
       "      <td>1010</td>\n",
       "      <td>RENEW</td>\n",
       "      <td>CHICAGO</td>\n",
       "      <td>25.0</td>\n",
       "      <td>60607</td>\n",
       "      <td>08/30/2016</td>\n",
       "      <td>41.867339</td>\n",
       "      <td>-87.641590</td>\n",
       "    </tr>\n",
       "    <tr>\n",
       "      <th>2</th>\n",
       "      <td>2368602.0</td>\n",
       "      <td>PROJECT: VISION , INC.</td>\n",
       "      <td>PROJECT : VISION , INC</td>\n",
       "      <td>1625</td>\n",
       "      <td>RENEW</td>\n",
       "      <td>CHICAGO</td>\n",
       "      <td>25.0</td>\n",
       "      <td>60616</td>\n",
       "      <td>06/22/2016</td>\n",
       "      <td>41.850843</td>\n",
       "      <td>-87.638734</td>\n",
       "    </tr>\n",
       "    <tr>\n",
       "      <th>4</th>\n",
       "      <td>1144216.0</td>\n",
       "      <td>WALGREEN CO.</td>\n",
       "      <td>Walgreens # 05192</td>\n",
       "      <td>1010</td>\n",
       "      <td>RENEW</td>\n",
       "      <td>CHICAGO</td>\n",
       "      <td>10.0</td>\n",
       "      <td>60617</td>\n",
       "      <td>05/11/2007</td>\n",
       "      <td>41.728622</td>\n",
       "      <td>-87.551366</td>\n",
       "    </tr>\n",
       "    <tr>\n",
       "      <th>5</th>\n",
       "      <td>2488345.0</td>\n",
       "      <td>BURKS HEATING AND COOLING SOLUTIONS, LLC</td>\n",
       "      <td>BURKS HEATING AND COOLING SOLUTIONS, LLC</td>\n",
       "      <td>4404</td>\n",
       "      <td>ISSUE</td>\n",
       "      <td>CHICAGO</td>\n",
       "      <td>15.0</td>\n",
       "      <td>60636</td>\n",
       "      <td>08/30/2016</td>\n",
       "      <td>41.789617</td>\n",
       "      <td>-87.669472</td>\n",
       "    </tr>\n",
       "  </tbody>\n",
       "</table>\n",
       "</div>"
      ],
      "text/plain": [
       "   LICENSE NUMBER                                LEGAL NAME  \\\n",
       "0         22308.0                     BELL OIL TERMINAL INC   \n",
       "1       1620668.0                     BUCCI BIG & TALL INC.   \n",
       "2       2368602.0                    PROJECT: VISION , INC.   \n",
       "4       1144216.0                              WALGREEN CO.   \n",
       "5       2488345.0  BURKS HEATING AND COOLING SOLUTIONS, LLC   \n",
       "\n",
       "                     DOING BUSINESS AS NAME  LICENSE CODE APPLICATION TYPE  \\\n",
       "0                     Bell Oil Terminal LLC          1010            RENEW   \n",
       "1                     BUCCI BIG & TALL INC.          1010            RENEW   \n",
       "2                    PROJECT : VISION , INC          1625            RENEW   \n",
       "4                         Walgreens # 05192          1010            RENEW   \n",
       "5  BURKS HEATING AND COOLING SOLUTIONS, LLC          4404            ISSUE   \n",
       "\n",
       "      CITY  WARD ZIP CODE DATE ISSUED   LATITUDE  LONGITUDE  \n",
       "0  CHICAGO  14.0    60623  08/11/2006  41.825320 -87.723960  \n",
       "1  CHICAGO  25.0    60607  08/30/2016  41.867339 -87.641590  \n",
       "2  CHICAGO  25.0    60616  06/22/2016  41.850843 -87.638734  \n",
       "4  CHICAGO  10.0    60617  05/11/2007  41.728622 -87.551366  \n",
       "5  CHICAGO  15.0    60636  08/30/2016  41.789617 -87.669472  "
      ]
     },
     "execution_count": 5,
     "metadata": {},
     "output_type": "execute_result"
    }
   ],
   "source": [
    "# Filter by city (Chicago) \n",
    "df_2 = df_1.query('CITY == \"CHICAGO\"')\n",
    "df_2.head()"
   ]
  },
  {
   "cell_type": "code",
   "execution_count": 6,
   "metadata": {},
   "outputs": [
    {
     "data": {
      "text/plain": [
       "(880450, 11)"
      ]
     },
     "execution_count": 6,
     "metadata": {},
     "output_type": "execute_result"
    }
   ],
   "source": [
    "df_2.shape"
   ]
  },
  {
   "cell_type": "code",
   "execution_count": 7,
   "metadata": {},
   "outputs": [
    {
     "name": "stderr",
     "output_type": "stream",
     "text": [
      "/Users/gallasteguicrino/anaconda3/lib/python3.7/site-packages/ipykernel_launcher.py:2: SettingWithCopyWarning: \n",
      "A value is trying to be set on a copy of a slice from a DataFrame.\n",
      "Try using .loc[row_indexer,col_indexer] = value instead\n",
      "\n",
      "See the caveats in the documentation: http://pandas.pydata.org/pandas-docs/stable/indexing.html#indexing-view-versus-copy\n",
      "  \n",
      "/Users/gallasteguicrino/anaconda3/lib/python3.7/site-packages/ipykernel_launcher.py:3: SettingWithCopyWarning: \n",
      "A value is trying to be set on a copy of a slice from a DataFrame.\n",
      "Try using .loc[row_indexer,col_indexer] = value instead\n",
      "\n",
      "See the caveats in the documentation: http://pandas.pydata.org/pandas-docs/stable/indexing.html#indexing-view-versus-copy\n",
      "  This is separate from the ipykernel package so we can avoid doing imports until\n"
     ]
    },
    {
     "data": {
      "text/html": [
       "<div>\n",
       "<style scoped>\n",
       "    .dataframe tbody tr th:only-of-type {\n",
       "        vertical-align: middle;\n",
       "    }\n",
       "\n",
       "    .dataframe tbody tr th {\n",
       "        vertical-align: top;\n",
       "    }\n",
       "\n",
       "    .dataframe thead th {\n",
       "        text-align: right;\n",
       "    }\n",
       "</style>\n",
       "<table border=\"1\" class=\"dataframe\">\n",
       "  <thead>\n",
       "    <tr style=\"text-align: right;\">\n",
       "      <th></th>\n",
       "      <th>LICENSE NUMBER</th>\n",
       "      <th>LEGAL NAME</th>\n",
       "      <th>DOING BUSINESS AS NAME</th>\n",
       "      <th>LICENSE CODE</th>\n",
       "      <th>APPLICATION TYPE</th>\n",
       "      <th>CITY</th>\n",
       "      <th>WARD</th>\n",
       "      <th>ZIP CODE</th>\n",
       "      <th>DATE ISSUED</th>\n",
       "      <th>LATITUDE</th>\n",
       "      <th>LONGITUDE</th>\n",
       "      <th>YEAR</th>\n",
       "      <th>MONTH</th>\n",
       "    </tr>\n",
       "  </thead>\n",
       "  <tbody>\n",
       "    <tr>\n",
       "      <th>0</th>\n",
       "      <td>22308.0</td>\n",
       "      <td>BELL OIL TERMINAL INC</td>\n",
       "      <td>Bell Oil Terminal LLC</td>\n",
       "      <td>1010</td>\n",
       "      <td>RENEW</td>\n",
       "      <td>CHICAGO</td>\n",
       "      <td>14.0</td>\n",
       "      <td>60623</td>\n",
       "      <td>08/11/2006</td>\n",
       "      <td>41.825320</td>\n",
       "      <td>-87.723960</td>\n",
       "      <td>2006</td>\n",
       "      <td>8</td>\n",
       "    </tr>\n",
       "    <tr>\n",
       "      <th>1</th>\n",
       "      <td>1620668.0</td>\n",
       "      <td>BUCCI BIG &amp; TALL INC.</td>\n",
       "      <td>BUCCI BIG &amp; TALL INC.</td>\n",
       "      <td>1010</td>\n",
       "      <td>RENEW</td>\n",
       "      <td>CHICAGO</td>\n",
       "      <td>25.0</td>\n",
       "      <td>60607</td>\n",
       "      <td>08/30/2016</td>\n",
       "      <td>41.867339</td>\n",
       "      <td>-87.641590</td>\n",
       "      <td>2016</td>\n",
       "      <td>8</td>\n",
       "    </tr>\n",
       "    <tr>\n",
       "      <th>2</th>\n",
       "      <td>2368602.0</td>\n",
       "      <td>PROJECT: VISION , INC.</td>\n",
       "      <td>PROJECT : VISION , INC</td>\n",
       "      <td>1625</td>\n",
       "      <td>RENEW</td>\n",
       "      <td>CHICAGO</td>\n",
       "      <td>25.0</td>\n",
       "      <td>60616</td>\n",
       "      <td>06/22/2016</td>\n",
       "      <td>41.850843</td>\n",
       "      <td>-87.638734</td>\n",
       "      <td>2016</td>\n",
       "      <td>6</td>\n",
       "    </tr>\n",
       "    <tr>\n",
       "      <th>4</th>\n",
       "      <td>1144216.0</td>\n",
       "      <td>WALGREEN CO.</td>\n",
       "      <td>Walgreens # 05192</td>\n",
       "      <td>1010</td>\n",
       "      <td>RENEW</td>\n",
       "      <td>CHICAGO</td>\n",
       "      <td>10.0</td>\n",
       "      <td>60617</td>\n",
       "      <td>05/11/2007</td>\n",
       "      <td>41.728622</td>\n",
       "      <td>-87.551366</td>\n",
       "      <td>2007</td>\n",
       "      <td>5</td>\n",
       "    </tr>\n",
       "    <tr>\n",
       "      <th>5</th>\n",
       "      <td>2488345.0</td>\n",
       "      <td>BURKS HEATING AND COOLING SOLUTIONS, LLC</td>\n",
       "      <td>BURKS HEATING AND COOLING SOLUTIONS, LLC</td>\n",
       "      <td>4404</td>\n",
       "      <td>ISSUE</td>\n",
       "      <td>CHICAGO</td>\n",
       "      <td>15.0</td>\n",
       "      <td>60636</td>\n",
       "      <td>08/30/2016</td>\n",
       "      <td>41.789617</td>\n",
       "      <td>-87.669472</td>\n",
       "      <td>2016</td>\n",
       "      <td>8</td>\n",
       "    </tr>\n",
       "  </tbody>\n",
       "</table>\n",
       "</div>"
      ],
      "text/plain": [
       "   LICENSE NUMBER                                LEGAL NAME  \\\n",
       "0         22308.0                     BELL OIL TERMINAL INC   \n",
       "1       1620668.0                     BUCCI BIG & TALL INC.   \n",
       "2       2368602.0                    PROJECT: VISION , INC.   \n",
       "4       1144216.0                              WALGREEN CO.   \n",
       "5       2488345.0  BURKS HEATING AND COOLING SOLUTIONS, LLC   \n",
       "\n",
       "                     DOING BUSINESS AS NAME  LICENSE CODE APPLICATION TYPE  \\\n",
       "0                     Bell Oil Terminal LLC          1010            RENEW   \n",
       "1                     BUCCI BIG & TALL INC.          1010            RENEW   \n",
       "2                    PROJECT : VISION , INC          1625            RENEW   \n",
       "4                         Walgreens # 05192          1010            RENEW   \n",
       "5  BURKS HEATING AND COOLING SOLUTIONS, LLC          4404            ISSUE   \n",
       "\n",
       "      CITY  WARD ZIP CODE DATE ISSUED   LATITUDE  LONGITUDE  YEAR  MONTH  \n",
       "0  CHICAGO  14.0    60623  08/11/2006  41.825320 -87.723960  2006      8  \n",
       "1  CHICAGO  25.0    60607  08/30/2016  41.867339 -87.641590  2016      8  \n",
       "2  CHICAGO  25.0    60616  06/22/2016  41.850843 -87.638734  2016      6  \n",
       "4  CHICAGO  10.0    60617  05/11/2007  41.728622 -87.551366  2007      5  \n",
       "5  CHICAGO  15.0    60636  08/30/2016  41.789617 -87.669472  2016      8  "
      ]
     },
     "execution_count": 7,
     "metadata": {},
     "output_type": "execute_result"
    }
   ],
   "source": [
    "# Create separate variables containing the year and month\n",
    "df_2['YEAR'] = pd.DatetimeIndex(df_2['DATE ISSUED']).year\n",
    "df_2['MONTH'] = pd.DatetimeIndex(df_2['DATE ISSUED']).month\n",
    "df_2.head()"
   ]
  },
  {
   "cell_type": "code",
   "execution_count": 28,
   "metadata": {},
   "outputs": [],
   "source": [
    "df_2 = df_2[df_2.YEAR != 2018]\n",
    "df_2 = df_2[df_2.YEAR != 2017]\n",
    "df_2 = df_2[df_2.YEAR != 2016]"
   ]
  },
  {
   "cell_type": "code",
   "execution_count": 36,
   "metadata": {},
   "outputs": [
    {
     "data": {
      "text/plain": [
       "Text(0.5, 1.0, 'Total New Licenses in General (2002-20015)')"
      ]
     },
     "execution_count": 36,
     "metadata": {},
     "output_type": "execute_result"
    },
    {
     "data": {
      "image/png": "[encoded data removed]",
      "text/plain": [
       "<Figure size 432x288 with 1 Axes>"
      ]
     },
     "metadata": {
      "needs_background": "light"
     },
     "output_type": "display_data"
    }
   ],
   "source": [
    "#Plot total number of licenses issued by year.\n",
    "\n",
    "license_number = df_2.groupby([\"LICENSE NUMBER\"]).first()\n",
    "license_number_year = license_number.groupby([\"YEAR\"]).count()\n",
    "plt.plot(\"LEGAL NAME\", data=license_number_year)\n",
    "plt.xlabel(\"Year\")\n",
    "plt.ylabel(\"Number of New Licences\")\n",
    "plt.title(\"Total New Licenses in General (2002-20015)\")"
   ]
  },
  {
   "cell_type": "code",
   "execution_count": 37,
   "metadata": {},
   "outputs": [
    {
     "data": {
      "text/plain": [
       "(122577, 13)"
      ]
     },
     "execution_count": 37,
     "metadata": {},
     "output_type": "execute_result"
    }
   ],
   "source": [
    "# Filter by license code (1006 corresponds to restaurants)\n",
    "df_3 = df_2[df_2['LICENSE CODE'] == 1006]\n",
    "df_3 = df_3.reset_index(drop=True)\n",
    "#Reamining rows\n",
    "df_3.shape"
   ]
  },
  {
   "cell_type": "code",
   "execution_count": 38,
   "metadata": {},
   "outputs": [
    {
     "data": {
      "text/plain": [
       "Text(0.5, 1.0, 'Restaurant New Licenses (2002-20015)')"
      ]
     },
     "execution_count": 38,
     "metadata": {},
     "output_type": "execute_result"
    },
    {
     "data": {
      "image/png": "[encoded data removed]",
      "text/plain": [
       "<Figure size 432x288 with 1 Axes>"
      ]
     },
     "metadata": {
      "needs_background": "light"
     },
     "output_type": "display_data"
    }
   ],
   "source": [
    "# Plot the number of restaurant licenses issued\n",
    "license_number_rest = df_3.groupby([\"LICENSE NUMBER\"]).first()\n",
    "license_number_year1 = license_number_rest.groupby([\"YEAR\"]).count()\n",
    "plt.plot(\"LEGAL NAME\", data=license_number_year1)\n",
    "plt.xlabel(\"Year\")\n",
    "plt.ylabel(\"Number of New Licenses\")\n",
    "plt.title(\"Restaurant New Licenses (2002-20015)\")"
   ]
  },
  {
   "cell_type": "code",
   "execution_count": 39,
   "metadata": {},
   "outputs": [
    {
     "data": {
      "text/plain": [
       "Text(0.5, 1.0, 'Restaurant Licenses Issued by Ward (2002-2015)')"
      ]
     },
     "execution_count": 39,
     "metadata": {},
     "output_type": "execute_result"
    },
    {
     "data": {
      "image/png": "[encoded data removed]",
      "text/plain": [
       "<Figure size 432x288 with 1 Axes>"
      ]
     },
     "metadata": {
      "needs_background": "light"
     },
     "output_type": "display_data"
    }
   ],
   "source": [
    "WARD = df_3['WARD']\n",
    "\n",
    "plt.hist(WARD, 50)\n",
    "\n",
    "plt.xlabel('Ward Number')\n",
    "plt.ylabel('Number of Licenses')\n",
    "plt.title('Restaurant Licenses Issued by Ward (2002-2015)')"
   ]
  },
  {
   "cell_type": "code",
   "execution_count": 40,
   "metadata": {},
   "outputs": [],
   "source": [
    "renew = df_3[df_3['APPLICATION TYPE'] == 'RENEW']\n",
    "issue = df_3[df_3['APPLICATION TYPE'] == 'ISSUE']\n"
   ]
  },
  {
   "cell_type": "code",
   "execution_count": 41,
   "metadata": {},
   "outputs": [
    {
     "data": {
      "text/plain": [
       "Text(0.5, 1.0, 'Restaurant Renewed Licenses (2002-2015)')"
      ]
     },
     "execution_count": 41,
     "metadata": {},
     "output_type": "execute_result"
    },
    {
     "data": {
      "image/png": "[encoded data removed]",
      "text/plain": [
       "<Figure size 432x288 with 1 Axes>"
      ]
     },
     "metadata": {
      "needs_background": "light"
     },
     "output_type": "display_data"
    }
   ],
   "source": [
    "licenses_renew = renew.groupby([\"YEAR\"]).count()\n",
    "plt.plot(\"WARD\", data= licenses_renew)\n",
    "plt.xlabel('Year')\n",
    "plt.ylabel('Renewed Licenses')\n",
    "plt.title('Restaurant Renewed Licenses (2002-2015)')"
   ]
  },
  {
   "cell_type": "code",
   "execution_count": 42,
   "metadata": {},
   "outputs": [
    {
     "data": {
      "text/plain": [
       "Text(0.5, 1.0, 'Restaurant Issued Licenses (2002-2015 )')"
      ]
     },
     "execution_count": 42,
     "metadata": {},
     "output_type": "execute_result"
    },
    {
     "data": {
      "image/png": "[encoded data removed]",
      "text/plain": [
       "<Figure size 432x288 with 1 Axes>"
      ]
     },
     "metadata": {
      "needs_background": "light"
     },
     "output_type": "display_data"
    }
   ],
   "source": [
    "licenses_issue = issue.groupby([\"YEAR\"]).count()\n",
    "plt.plot(\"WARD\", data= licenses_issue)\n",
    "plt.xlabel('Year')\n",
    "plt.ylabel('New Issued Licenses')\n",
    "plt.title('Restaurant Issued Licenses (2002-2015 )')"
   ]
  },
  {
   "cell_type": "code",
   "execution_count": null,
   "metadata": {},
   "outputs": [],
   "source": []
  },
  {
   "cell_type": "code",
   "execution_count": null,
   "metadata": {},
   "outputs": [],
   "source": []
  },
  {
   "cell_type": "code",
   "execution_count": null,
   "metadata": {},
   "outputs": [],
   "source": []
  }
 ],
 "metadata": {
  "kernelspec": {
   "display_name": "Python 3",
   "language": "python",
   "name": "python3"
  },
  "language_info": {
   "codemirror_mode": {
    "name": "ipython",
    "version": 3
   },
   "file_extension": ".py",
   "mimetype": "text/x-python",
   "name": "python",
   "nbconvert_exporter": "python",
   "pygments_lexer": "ipython3",
   "version": "3.7.0"
  }
 },
 "nbformat": 4,
 "nbformat_minor": 2
}
